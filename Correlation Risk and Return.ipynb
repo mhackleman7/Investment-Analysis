{
 "cells": [
  {
   "cell_type": "code",
   "execution_count": 1,
   "id": "e0503fde",
   "metadata": {},
   "outputs": [
    {
     "name": "stdout",
     "output_type": "stream",
     "text": [
      "Using matplotlib backend: <object object at 0x000001A5ED0682A0>\n"
     ]
    }
   ],
   "source": [
    "import pandas as pd\n",
    "import numpy as np\n",
    "import matplotlib.pyplot as plt\n",
    "import seaborn as sns\n",
    "sns.set()\n",
    "%matplotlib"
   ]
  },
  {
   "cell_type": "code",
   "execution_count": 2,
   "id": "68d87acf",
   "metadata": {},
   "outputs": [],
   "source": [
    "#Stocks working with\n",
    "# Arlington PLC (ALTN)\n",
    "# Brighton INC (BTON)"
   ]
  },
  {
   "cell_type": "code",
   "execution_count": 3,
   "id": "fa04fc5c",
   "metadata": {},
   "outputs": [],
   "source": [
    "def get_port_weights():\n",
    "    \"\"\"Returns the weights to be invested in securities belonging to a 2 asset portfolio.\n",
    "    Each ensuing weight is decremented (incremented) by 0.1 for ALTN (BTON).\"\"\"\n",
    "    \n",
    "    # Weights of Arlington == 1 through to 0 in decrements of 0.1\n",
    "    weights_altn = list(np.round(np.arange(1, -0.1, -0.1), 2))\n",
    "    \n",
    "    # Weights of Brighton == 0 through to 1 in increments of 0.1\n",
    "    weights_bton = weights_altn[:]\n",
    "    weights_bton.reverse()\n",
    "    \n",
    "    return weights_altn, weights_bton"
   ]
  },
  {
   "cell_type": "code",
   "execution_count": 4,
   "id": "2f567d50",
   "metadata": {},
   "outputs": [
    {
     "data": {
      "text/plain": [
       "([1.0, 0.9, 0.8, 0.7, 0.6, 0.5, 0.4, 0.3, 0.2, 0.1, 0.0],\n",
       " [0.0, 0.1, 0.2, 0.3, 0.4, 0.5, 0.6, 0.7, 0.8, 0.9, 1.0])"
      ]
     },
     "execution_count": 4,
     "metadata": {},
     "output_type": "execute_result"
    }
   ],
   "source": [
    "get_port_weights()"
   ]
  },
  {
   "cell_type": "code",
   "execution_count": 5,
   "id": "c3ad005c",
   "metadata": {},
   "outputs": [],
   "source": [
    "def get_port_returns_risk(expected_returns, total_risks, correlation, weights):\n",
    "    \"\"\"Returns the portfolio returns and risks of multiple portfolio iterations.\n",
    "    \n",
    "    Args:\n",
    "        expected_returns([type: list of length 2]): [expected returns of security a and b]\n",
    "        total_risks ([type: list of length 2]): [total risk of security a and b]\n",
    "        correlation ([type: float]): [correlation between securities a and b]\n",
    "        weights ([type: tuple of 2 lists]): [weights of security in a and b for each portfolio]\n",
    "        \n",
    "    Returns:\n",
    "        [type: tuple of 2 lists]: [portfolio returns and portfolio risks of different portfolio iterations]\n",
    "    \"\"\"\n",
    "    \n",
    "    port_returns = []\n",
    "    port_risks = []\n",
    "    for i in range(len(weights[0])):\n",
    "        # Asset Weights\n",
    "        w_altn = weights[0][i]\n",
    "        w_bton = weights[1][i]\n",
    "        \n",
    "        # Asset Expected Returns\n",
    "        exp_r_altn = expected_returns[0]\n",
    "        exp_r_bton = expected_returns[1]\n",
    "        \n",
    "        # Asset Risks\n",
    "        risk_altn = total_risks[0]\n",
    "        risk_bton = total_risks[1]\n",
    "        \n",
    "        # Portfolio Return\n",
    "        port_ret = w_altn * exp_r_altn + w_bton * exp_r_bton\n",
    "        \n",
    "        # Portfolio Risk\n",
    "        port_risk = np.sqrt((w_altn **2) * (risk_altn ** 2) \\\n",
    "                            + (w_bton ** 2) * (risk_bton ** 2) \\\n",
    "                                + (2 * w_altn * w_bton * risk_altn * risk_bton * correlation))\n",
    "        \n",
    "        port_returns.append(port_ret)\n",
    "        port_risks.append(port_risk)\n",
    "        \n",
    "    return port_returns, port_risks"
   ]
  },
  {
   "cell_type": "code",
   "execution_count": 6,
   "id": "676da8b0",
   "metadata": {},
   "outputs": [],
   "source": [
    "def plot_my_scatter(expected_returns, total_risks, weights, correlation):\n",
    "    \n",
    "    port_returns, port_risks = get_port_returns_risk(expected_returns, total_risks, correlation, weights)\n",
    "    \n",
    "    plt.figure(figsize=(12,8))\n",
    "    plt.title(f\"Portfolio Return vs. Portfolio Risk when p = {correlation}\", fontsize=18)\n",
    "    plt.scatter(port_risks, port_returns, color='#ffbd4a', zorder=2)\n",
    "    plt.plot(port_risks, port_returns, color='#39b8eb', zorder=1, linewidth=2)\n",
    "    plt.xlabel(\"Portfolio Risk (o)\")\n",
    "    plt.ylabel(\"Expected Portfolio Return (E[r])\")\n",
    "    plt.ion()\n",
    "    \n",
    "    return"
   ]
  },
  {
   "cell_type": "code",
   "execution_count": null,
   "id": "861b7c16",
   "metadata": {},
   "outputs": [],
   "source": []
  },
  {
   "cell_type": "code",
   "execution_count": 7,
   "id": "29104fcb",
   "metadata": {},
   "outputs": [],
   "source": [
    "# Stock parameters\n",
    "expected_r_arlington = .12\n",
    "expected_r_brighton = .18\n",
    "risk_arlington = .2 \n",
    "risk_brighton = .3"
   ]
  },
  {
   "cell_type": "code",
   "execution_count": 8,
   "id": "30985373",
   "metadata": {},
   "outputs": [],
   "source": [
    "plot_my_scatter(expected_returns=[expected_r_arlington,\n",
    "                                  expected_r_brighton],\n",
    "               total_risks=[risk_arlington,\n",
    "                           risk_brighton],\n",
    "               weights=get_port_weights(),\n",
    "               correlation=.3)"
   ]
  },
  {
   "cell_type": "code",
   "execution_count": null,
   "id": "a9c30aea",
   "metadata": {},
   "outputs": [],
   "source": []
  }
 ],
 "metadata": {
  "kernelspec": {
   "display_name": "Python 3 (ipykernel)",
   "language": "python",
   "name": "python3"
  },
  "language_info": {
   "codemirror_mode": {
    "name": "ipython",
    "version": 3
   },
   "file_extension": ".py",
   "mimetype": "text/x-python",
   "name": "python",
   "nbconvert_exporter": "python",
   "pygments_lexer": "ipython3",
   "version": "3.9.12"
  }
 },
 "nbformat": 4,
 "nbformat_minor": 5
}
