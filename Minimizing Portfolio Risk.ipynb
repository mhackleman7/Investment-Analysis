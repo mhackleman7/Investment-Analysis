{
 "cells": [
  {
   "cell_type": "code",
   "execution_count": 1,
   "id": "5408cfcc",
   "metadata": {},
   "outputs": [],
   "source": [
    "import pandas as pd\n",
    "import numpy as np\n",
    "from scipy.optimize import minimize"
   ]
  },
  {
   "cell_type": "code",
   "execution_count": 2,
   "id": "d82400c7",
   "metadata": {},
   "outputs": [],
   "source": [
    "df = pd.read_csv('15stocks_price.csv')\n",
    "\n",
    "df['date_gsheets'] = pd.to_datetime(df['date_gsheets'])\n",
    "df.set_index('date_gsheets', inplace=True)"
   ]
  },
  {
   "cell_type": "code",
   "execution_count": 6,
   "id": "b0764f6c",
   "metadata": {},
   "outputs": [],
   "source": [
    "def getPortRisk(weights):\n",
    "    returns_df = df.pct_change(1).dropna()\n",
    "    num_stocks = len(returns_df.columns)\n",
    "    vcv = returns_df.cov()\n",
    "    \n",
    "    var_p = np.dot(np.transpose(weights), np.dot(vcv, weights))\n",
    "    sd_p = np.sqrt(var_p)\n",
    "    sd_p_annual = sd_p * np.sqrt(250)\n",
    "    \n",
    "    return sd_p_annual"
   ]
  },
  {
   "cell_type": "code",
   "execution_count": 7,
   "id": "7202efac",
   "metadata": {},
   "outputs": [],
   "source": [
    "num_stocks = len(df.columns)\n",
    "init_weights = [1 / num_stocks] * num_stocks"
   ]
  },
  {
   "cell_type": "code",
   "execution_count": 9,
   "id": "66ca4ac6",
   "metadata": {},
   "outputs": [],
   "source": [
    "bounds = tuple((0,1) for i in range(num_stocks))"
   ]
  },
  {
   "cell_type": "code",
   "execution_count": 10,
   "id": "83702332",
   "metadata": {},
   "outputs": [],
   "source": [
    "cons = ({'type' : 'eq', 'fun' : lambda x : np.sum(x) - 1})"
   ]
  },
  {
   "cell_type": "code",
   "execution_count": 11,
   "id": "3df71712",
   "metadata": {},
   "outputs": [],
   "source": [
    "results = minimize(fun=getPortRisk, x0=init_weights, bounds=bounds, constraints=cons)"
   ]
  },
  {
   "cell_type": "code",
   "execution_count": 12,
   "id": "0396acfb",
   "metadata": {},
   "outputs": [
    {
     "data": {
      "text/plain": [
       "     fun: 0.1059347936948761\n",
       "     jac: array([0.10597393, 0.10585235, 0.10600164, 0.1058007 , 0.10597585,\n",
       "       0.10618784, 0.10613558, 0.10582459, 0.10587699, 0.11916338,\n",
       "       0.11288869, 0.10579355, 0.10934387, 0.1058938 , 0.10634915])\n",
       " message: 'Optimization terminated successfully'\n",
       "    nfev: 176\n",
       "     nit: 11\n",
       "    njev: 11\n",
       "  status: 0\n",
       " success: True\n",
       "       x: array([4.79798174e-02, 2.80742498e-01, 7.53106181e-03, 1.29294763e-01,\n",
       "       3.54257633e-02, 8.40458002e-02, 1.62830960e-01, 1.72868281e-01,\n",
       "       2.00872883e-02, 0.00000000e+00, 1.62630326e-18, 3.55672017e-03,\n",
       "       2.49366500e-18, 4.31645324e-02, 1.24725144e-02])"
      ]
     },
     "execution_count": 12,
     "metadata": {},
     "output_type": "execute_result"
    }
   ],
   "source": [
    "results"
   ]
  },
  {
   "cell_type": "code",
   "execution_count": 13,
   "id": "ecff8e65",
   "metadata": {},
   "outputs": [
    {
     "data": {
      "text/plain": [
       "0.13290599867193698"
      ]
     },
     "execution_count": 13,
     "metadata": {},
     "output_type": "execute_result"
    }
   ],
   "source": [
    "getPortRisk(init_weights)"
   ]
  },
  {
   "cell_type": "code",
   "execution_count": 16,
   "id": "d0b00686",
   "metadata": {},
   "outputs": [],
   "source": [
    "optimized_weights = pd.DataFrame(results['x'])\n",
    "optimized_weights.index = df.columns\n",
    "optimized_weights.rename(columns={optimized_weights.columns[0] : 'weights'}, inplace=True)"
   ]
  },
  {
   "cell_type": "code",
   "execution_count": 17,
   "id": "51af48fe",
   "metadata": {},
   "outputs": [
    {
     "data": {
      "text/html": [
       "<div>\n",
       "<style scoped>\n",
       "    .dataframe tbody tr th:only-of-type {\n",
       "        vertical-align: middle;\n",
       "    }\n",
       "\n",
       "    .dataframe tbody tr th {\n",
       "        vertical-align: top;\n",
       "    }\n",
       "\n",
       "    .dataframe thead th {\n",
       "        text-align: right;\n",
       "    }\n",
       "</style>\n",
       "<table border=\"1\" class=\"dataframe\">\n",
       "  <thead>\n",
       "    <tr style=\"text-align: right;\">\n",
       "      <th></th>\n",
       "      <th>weights</th>\n",
       "    </tr>\n",
       "  </thead>\n",
       "  <tbody>\n",
       "    <tr>\n",
       "      <th>AAPL</th>\n",
       "      <td>4.797982e-02</td>\n",
       "    </tr>\n",
       "    <tr>\n",
       "      <th>KO</th>\n",
       "      <td>2.807425e-01</td>\n",
       "    </tr>\n",
       "    <tr>\n",
       "      <th>NFLX</th>\n",
       "      <td>7.531062e-03</td>\n",
       "    </tr>\n",
       "    <tr>\n",
       "      <th>BRK.B</th>\n",
       "      <td>1.292948e-01</td>\n",
       "    </tr>\n",
       "    <tr>\n",
       "      <th>DIS</th>\n",
       "      <td>3.542576e-02</td>\n",
       "    </tr>\n",
       "    <tr>\n",
       "      <th>IBM</th>\n",
       "      <td>8.404580e-02</td>\n",
       "    </tr>\n",
       "    <tr>\n",
       "      <th>VZ</th>\n",
       "      <td>1.628310e-01</td>\n",
       "    </tr>\n",
       "    <tr>\n",
       "      <th>WMT</th>\n",
       "      <td>1.728683e-01</td>\n",
       "    </tr>\n",
       "    <tr>\n",
       "      <th>GE</th>\n",
       "      <td>2.008729e-02</td>\n",
       "    </tr>\n",
       "    <tr>\n",
       "      <th>TSLA</th>\n",
       "      <td>0.000000e+00</td>\n",
       "    </tr>\n",
       "    <tr>\n",
       "      <th>MA</th>\n",
       "      <td>1.626303e-18</td>\n",
       "    </tr>\n",
       "    <tr>\n",
       "      <th>AMZN</th>\n",
       "      <td>3.556720e-03</td>\n",
       "    </tr>\n",
       "    <tr>\n",
       "      <th>MSFT</th>\n",
       "      <td>2.493665e-18</td>\n",
       "    </tr>\n",
       "    <tr>\n",
       "      <th>UN</th>\n",
       "      <td>4.316453e-02</td>\n",
       "    </tr>\n",
       "    <tr>\n",
       "      <th>V</th>\n",
       "      <td>1.247251e-02</td>\n",
       "    </tr>\n",
       "  </tbody>\n",
       "</table>\n",
       "</div>"
      ],
      "text/plain": [
       "            weights\n",
       "AAPL   4.797982e-02\n",
       "KO     2.807425e-01\n",
       "NFLX   7.531062e-03\n",
       "BRK.B  1.292948e-01\n",
       "DIS    3.542576e-02\n",
       "IBM    8.404580e-02\n",
       "VZ     1.628310e-01\n",
       "WMT    1.728683e-01\n",
       "GE     2.008729e-02\n",
       "TSLA   0.000000e+00\n",
       "MA     1.626303e-18\n",
       "AMZN   3.556720e-03\n",
       "MSFT   2.493665e-18\n",
       "UN     4.316453e-02\n",
       "V      1.247251e-02"
      ]
     },
     "execution_count": 17,
     "metadata": {},
     "output_type": "execute_result"
    }
   ],
   "source": [
    "optimized_weights"
   ]
  },
  {
   "cell_type": "code",
   "execution_count": 18,
   "id": "f256688b",
   "metadata": {},
   "outputs": [],
   "source": [
    "optimized_weights['weights_rounded'] = optimized_weights['weights'].apply(lambda x : round(x, 3))"
   ]
  },
  {
   "cell_type": "code",
   "execution_count": 19,
   "id": "c1bdc4fb",
   "metadata": {},
   "outputs": [
    {
     "data": {
      "text/html": [
       "<div>\n",
       "<style scoped>\n",
       "    .dataframe tbody tr th:only-of-type {\n",
       "        vertical-align: middle;\n",
       "    }\n",
       "\n",
       "    .dataframe tbody tr th {\n",
       "        vertical-align: top;\n",
       "    }\n",
       "\n",
       "    .dataframe thead th {\n",
       "        text-align: right;\n",
       "    }\n",
       "</style>\n",
       "<table border=\"1\" class=\"dataframe\">\n",
       "  <thead>\n",
       "    <tr style=\"text-align: right;\">\n",
       "      <th></th>\n",
       "      <th>weights</th>\n",
       "      <th>weights_rounded</th>\n",
       "    </tr>\n",
       "  </thead>\n",
       "  <tbody>\n",
       "    <tr>\n",
       "      <th>AAPL</th>\n",
       "      <td>4.797982e-02</td>\n",
       "      <td>0.048</td>\n",
       "    </tr>\n",
       "    <tr>\n",
       "      <th>KO</th>\n",
       "      <td>2.807425e-01</td>\n",
       "      <td>0.281</td>\n",
       "    </tr>\n",
       "    <tr>\n",
       "      <th>NFLX</th>\n",
       "      <td>7.531062e-03</td>\n",
       "      <td>0.008</td>\n",
       "    </tr>\n",
       "    <tr>\n",
       "      <th>BRK.B</th>\n",
       "      <td>1.292948e-01</td>\n",
       "      <td>0.129</td>\n",
       "    </tr>\n",
       "    <tr>\n",
       "      <th>DIS</th>\n",
       "      <td>3.542576e-02</td>\n",
       "      <td>0.035</td>\n",
       "    </tr>\n",
       "    <tr>\n",
       "      <th>IBM</th>\n",
       "      <td>8.404580e-02</td>\n",
       "      <td>0.084</td>\n",
       "    </tr>\n",
       "    <tr>\n",
       "      <th>VZ</th>\n",
       "      <td>1.628310e-01</td>\n",
       "      <td>0.163</td>\n",
       "    </tr>\n",
       "    <tr>\n",
       "      <th>WMT</th>\n",
       "      <td>1.728683e-01</td>\n",
       "      <td>0.173</td>\n",
       "    </tr>\n",
       "    <tr>\n",
       "      <th>GE</th>\n",
       "      <td>2.008729e-02</td>\n",
       "      <td>0.020</td>\n",
       "    </tr>\n",
       "    <tr>\n",
       "      <th>TSLA</th>\n",
       "      <td>0.000000e+00</td>\n",
       "      <td>0.000</td>\n",
       "    </tr>\n",
       "    <tr>\n",
       "      <th>MA</th>\n",
       "      <td>1.626303e-18</td>\n",
       "      <td>0.000</td>\n",
       "    </tr>\n",
       "    <tr>\n",
       "      <th>AMZN</th>\n",
       "      <td>3.556720e-03</td>\n",
       "      <td>0.004</td>\n",
       "    </tr>\n",
       "    <tr>\n",
       "      <th>MSFT</th>\n",
       "      <td>2.493665e-18</td>\n",
       "      <td>0.000</td>\n",
       "    </tr>\n",
       "    <tr>\n",
       "      <th>UN</th>\n",
       "      <td>4.316453e-02</td>\n",
       "      <td>0.043</td>\n",
       "    </tr>\n",
       "    <tr>\n",
       "      <th>V</th>\n",
       "      <td>1.247251e-02</td>\n",
       "      <td>0.012</td>\n",
       "    </tr>\n",
       "  </tbody>\n",
       "</table>\n",
       "</div>"
      ],
      "text/plain": [
       "            weights  weights_rounded\n",
       "AAPL   4.797982e-02            0.048\n",
       "KO     2.807425e-01            0.281\n",
       "NFLX   7.531062e-03            0.008\n",
       "BRK.B  1.292948e-01            0.129\n",
       "DIS    3.542576e-02            0.035\n",
       "IBM    8.404580e-02            0.084\n",
       "VZ     1.628310e-01            0.163\n",
       "WMT    1.728683e-01            0.173\n",
       "GE     2.008729e-02            0.020\n",
       "TSLA   0.000000e+00            0.000\n",
       "MA     1.626303e-18            0.000\n",
       "AMZN   3.556720e-03            0.004\n",
       "MSFT   2.493665e-18            0.000\n",
       "UN     4.316453e-02            0.043\n",
       "V      1.247251e-02            0.012"
      ]
     },
     "execution_count": 19,
     "metadata": {},
     "output_type": "execute_result"
    }
   ],
   "source": [
    "optimized_weights"
   ]
  },
  {
   "cell_type": "code",
   "execution_count": 21,
   "id": "f71b9b4f",
   "metadata": {},
   "outputs": [
    {
     "data": {
      "text/plain": [
       "KO       0.281\n",
       "WMT      0.454\n",
       "VZ       0.617\n",
       "BRK.B    0.746\n",
       "IBM      0.830\n",
       "AAPL     0.878\n",
       "UN       0.921\n",
       "DIS      0.956\n",
       "GE       0.976\n",
       "V        0.988\n",
       "NFLX     0.996\n",
       "AMZN     1.000\n",
       "TSLA     1.000\n",
       "MA       1.000\n",
       "MSFT     1.000\n",
       "Name: weights_rounded, dtype: float64"
      ]
     },
     "execution_count": 21,
     "metadata": {},
     "output_type": "execute_result"
    }
   ],
   "source": [
    "optimized_weights['weights_rounded'].sort_values(ascending=False).cumsum()"
   ]
  },
  {
   "cell_type": "code",
   "execution_count": null,
   "id": "41b8f944",
   "metadata": {},
   "outputs": [],
   "source": []
  }
 ],
 "metadata": {
  "kernelspec": {
   "display_name": "Python 3 (ipykernel)",
   "language": "python",
   "name": "python3"
  },
  "language_info": {
   "codemirror_mode": {
    "name": "ipython",
    "version": 3
   },
   "file_extension": ".py",
   "mimetype": "text/x-python",
   "name": "python",
   "nbconvert_exporter": "python",
   "pygments_lexer": "ipython3",
   "version": "3.9.12"
  }
 },
 "nbformat": 4,
 "nbformat_minor": 5
}
